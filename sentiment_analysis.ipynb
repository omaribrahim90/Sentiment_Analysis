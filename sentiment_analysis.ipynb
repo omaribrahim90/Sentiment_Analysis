{
 "cells": [
  {
   "cell_type": "code",
   "execution_count": 4,
   "id": "860aded4",
   "metadata": {},
   "outputs": [],
   "source": [
    "import pandas as pd\n",
    "import numpy as np\n",
    "import matplotlib\n",
    "import matplotlib.pyplot as plt\n",
    "import seaborn as sns\n",
    "import nltk\n",
    "import re\n",
    "import string\n",
    "import spacy\n",
    "\n",
    "\n",
    "# Load the dataset\n",
    "df = pd.read_csv('sentiment_data.csv')"
   ]
  },
  {
   "cell_type": "code",
   "execution_count": 5,
   "id": "1c4e0f8a",
   "metadata": {},
   "outputs": [
    {
     "name": "stdout",
     "output_type": "stream",
     "text": [
      "<class 'pandas.core.frame.DataFrame'>\n",
      "RangeIndex: 241145 entries, 0 to 241144\n",
      "Data columns (total 3 columns):\n",
      " #   Column      Non-Null Count   Dtype \n",
      "---  ------      --------------   ----- \n",
      " 0   Unnamed: 0  241145 non-null  int64 \n",
      " 1   Comment     240928 non-null  object\n",
      " 2   Sentiment   241145 non-null  int64 \n",
      "dtypes: int64(2), object(1)\n",
      "memory usage: 5.5+ MB\n"
     ]
    }
   ],
   "source": [
    "df.info()"
   ]
  },
  {
   "cell_type": "code",
   "execution_count": 6,
   "id": "7c0699b2",
   "metadata": {},
   "outputs": [
    {
     "data": {
      "text/html": [
       "<div>\n",
       "<style scoped>\n",
       "    .dataframe tbody tr th:only-of-type {\n",
       "        vertical-align: middle;\n",
       "    }\n",
       "\n",
       "    .dataframe tbody tr th {\n",
       "        vertical-align: top;\n",
       "    }\n",
       "\n",
       "    .dataframe thead th {\n",
       "        text-align: right;\n",
       "    }\n",
       "</style>\n",
       "<table border=\"1\" class=\"dataframe\">\n",
       "  <thead>\n",
       "    <tr style=\"text-align: right;\">\n",
       "      <th></th>\n",
       "      <th>Unnamed: 0</th>\n",
       "      <th>Comment</th>\n",
       "      <th>Sentiment</th>\n",
       "    </tr>\n",
       "  </thead>\n",
       "  <tbody>\n",
       "    <tr>\n",
       "      <th>125339</th>\n",
       "      <td>126117</td>\n",
       "      <td>modi bharat</td>\n",
       "      <td>1</td>\n",
       "    </tr>\n",
       "    <tr>\n",
       "      <th>31337</th>\n",
       "      <td>32114</td>\n",
       "      <td>drinks din w amy lori</td>\n",
       "      <td>1</td>\n",
       "    </tr>\n",
       "    <tr>\n",
       "      <th>127568</th>\n",
       "      <td>128346</td>\n",
       "      <td>operation called lasted minutes made nation wo...</td>\n",
       "      <td>1</td>\n",
       "    </tr>\n",
       "    <tr>\n",
       "      <th>231949</th>\n",
       "      <td>232727</td>\n",
       "      <td>modi chose varanasi rahul chooses wayanad made...</td>\n",
       "      <td>1</td>\n",
       "    </tr>\n",
       "    <tr>\n",
       "      <th>77366</th>\n",
       "      <td>78143</td>\n",
       "      <td>prefer wunderlist since move around tasks app ...</td>\n",
       "      <td>1</td>\n",
       "    </tr>\n",
       "    <tr>\n",
       "      <th>186408</th>\n",
       "      <td>187186</td>\n",
       "      <td>modi fans unite take oath see maximum number v...</td>\n",
       "      <td>2</td>\n",
       "    </tr>\n",
       "    <tr>\n",
       "      <th>15965</th>\n",
       "      <td>16007</td>\n",
       "      <td>definitely seeing blonsky wong sure next episo...</td>\n",
       "      <td>2</td>\n",
       "    </tr>\n",
       "    <tr>\n",
       "      <th>113051</th>\n",
       "      <td>113829</td>\n",
       "      <td>chennai floating friends north west east india...</td>\n",
       "      <td>2</td>\n",
       "    </tr>\n",
       "    <tr>\n",
       "      <th>113881</th>\n",
       "      <td>114659</td>\n",
       "      <td>modi dont freebie distribution dig right time ...</td>\n",
       "      <td>2</td>\n",
       "    </tr>\n",
       "    <tr>\n",
       "      <th>66847</th>\n",
       "      <td>67624</td>\n",
       "      <td>keep getting pet days heard weekend fab weddin...</td>\n",
       "      <td>2</td>\n",
       "    </tr>\n",
       "    <tr>\n",
       "      <th>179826</th>\n",
       "      <td>180604</td>\n",
       "      <td>become high patient may coz modi iis coming</td>\n",
       "      <td>2</td>\n",
       "    </tr>\n",
       "    <tr>\n",
       "      <th>50749</th>\n",
       "      <td>51526</td>\n",
       "      <td>hi susan read blog really good look forward tw...</td>\n",
       "      <td>2</td>\n",
       "    </tr>\n",
       "    <tr>\n",
       "      <th>58804</th>\n",
       "      <td>59581</td>\n",
       "      <td>going sausage yum yum</td>\n",
       "      <td>2</td>\n",
       "    </tr>\n",
       "    <tr>\n",
       "      <th>148199</th>\n",
       "      <td>148977</td>\n",
       "      <td>anything else quoting congress opposition modi...</td>\n",
       "      <td>0</td>\n",
       "    </tr>\n",
       "    <tr>\n",
       "      <th>35599</th>\n",
       "      <td>36376</td>\n",
       "      <td>able see clipsepisodes website america languis...</td>\n",
       "      <td>0</td>\n",
       "    </tr>\n",
       "  </tbody>\n",
       "</table>\n",
       "</div>"
      ],
      "text/plain": [
       "        Unnamed: 0                                            Comment  \\\n",
       "125339      126117                                        modi bharat   \n",
       "31337        32114                              drinks din w amy lori   \n",
       "127568      128346  operation called lasted minutes made nation wo...   \n",
       "231949      232727  modi chose varanasi rahul chooses wayanad made...   \n",
       "77366        78143  prefer wunderlist since move around tasks app ...   \n",
       "186408      187186  modi fans unite take oath see maximum number v...   \n",
       "15965        16007  definitely seeing blonsky wong sure next episo...   \n",
       "113051      113829  chennai floating friends north west east india...   \n",
       "113881      114659  modi dont freebie distribution dig right time ...   \n",
       "66847        67624  keep getting pet days heard weekend fab weddin...   \n",
       "179826      180604        become high patient may coz modi iis coming   \n",
       "50749        51526  hi susan read blog really good look forward tw...   \n",
       "58804        59581                              going sausage yum yum   \n",
       "148199      148977  anything else quoting congress opposition modi...   \n",
       "35599        36376  able see clipsepisodes website america languis...   \n",
       "\n",
       "        Sentiment  \n",
       "125339          1  \n",
       "31337           1  \n",
       "127568          1  \n",
       "231949          1  \n",
       "77366           1  \n",
       "186408          2  \n",
       "15965           2  \n",
       "113051          2  \n",
       "113881          2  \n",
       "66847           2  \n",
       "179826          2  \n",
       "50749           2  \n",
       "58804           2  \n",
       "148199          0  \n",
       "35599           0  "
      ]
     },
     "execution_count": 6,
     "metadata": {},
     "output_type": "execute_result"
    }
   ],
   "source": [
    "df.sample(15)"
   ]
  },
  {
   "cell_type": "markdown",
   "id": "1fbfa5de",
   "metadata": {},
   "source": [
    "# 0 for Negative , 1 for Neutral , 2 for Positive"
   ]
  },
  {
   "cell_type": "markdown",
   "id": "0b0b47d7",
   "metadata": {},
   "source": [
    "# Cleaning"
   ]
  },
  {
   "cell_type": "code",
   "execution_count": 8,
   "id": "bd537296",
   "metadata": {},
   "outputs": [
    {
     "data": {
      "text/plain": [
       "Unnamed: 0      0\n",
       "Comment       217\n",
       "Sentiment       0\n",
       "dtype: int64"
      ]
     },
     "execution_count": 8,
     "metadata": {},
     "output_type": "execute_result"
    }
   ],
   "source": [
    "df.isnull().sum()\n"
   ]
  },
  {
   "cell_type": "code",
   "execution_count": null,
   "id": "cecc77f4",
   "metadata": {},
   "outputs": [],
   "source": [
    "df.dropna(subset=['Comment'], inplace=True)\n",
    "df.drop(columns= ['Unnamed: 0'], inplace=True)\n"
   ]
  },
  {
   "cell_type": "code",
   "execution_count": 6,
   "id": "0c1b1cee",
   "metadata": {},
   "outputs": [],
   "source": [
    "nlp = spacy.load(\"en_core_web_sm\")\n",
    "\n",
    "def clean_and_tokenize(text):\n",
    "    text = text.lower()\n",
    "    text = re.sub(r'http\\S+|www\\S+', \" \", text)     \n",
    "    text = re.sub(r'@\\w+|#\\w+', \" \", text)          \n",
    "    text = re.sub(r'\\d+', \" \", text)               \n",
    "    text = re.sub(r\"[^a-z\\s]\", \" \", text)       \n",
    "    text = re.sub(r\"\\s+\", \" \", text).strip()\n",
    "    text = re.sub(r'(.)\\1{2,}', r'\\1\\1', text)  \n",
    "\n",
    "    # tokenization + lemmatization + stopword removal + punct removal\n",
    "    doc = nlp(text)\n",
    "    tokens = [          # returnet as a list\n",
    "        token.lemma_ \n",
    "        for token in doc \n",
    "        if not token.is_stop and not token.is_punct and not token.is_space\n",
    "    ]\n",
    "\n",
    "    return tokens\n",
    "\n",
    "df['tokens'] = df['Comment'].apply(clean_and_tokenize) # apply the function for each row in the comment column"
   ]
  },
  {
   "cell_type": "code",
   "execution_count": 7,
   "id": "0be06e82",
   "metadata": {},
   "outputs": [
    {
     "data": {
      "text/html": [
       "<div>\n",
       "<style scoped>\n",
       "    .dataframe tbody tr th:only-of-type {\n",
       "        vertical-align: middle;\n",
       "    }\n",
       "\n",
       "    .dataframe tbody tr th {\n",
       "        vertical-align: top;\n",
       "    }\n",
       "\n",
       "    .dataframe thead th {\n",
       "        text-align: right;\n",
       "    }\n",
       "</style>\n",
       "<table border=\"1\" class=\"dataframe\">\n",
       "  <thead>\n",
       "    <tr style=\"text-align: right;\">\n",
       "      <th></th>\n",
       "      <th>Comment</th>\n",
       "      <th>Sentiment</th>\n",
       "      <th>tokens</th>\n",
       "    </tr>\n",
       "  </thead>\n",
       "  <tbody>\n",
       "    <tr>\n",
       "      <th>21723</th>\n",
       "      <td>soupysoup time today heinz cream chicken mushr...</td>\n",
       "      <td>1</td>\n",
       "      <td>[soupysoup, time, today, heinz, cream, chicken...</td>\n",
       "    </tr>\n",
       "    <tr>\n",
       "      <th>173746</th>\n",
       "      <td>urmila matondkar shame kashmiri pandits women ...</td>\n",
       "      <td>2</td>\n",
       "      <td>[urmila, matondkar, shame, kashmiri, pandit, w...</td>\n",
       "    </tr>\n",
       "    <tr>\n",
       "      <th>21006</th>\n",
       "      <td>buy new washer bought dryer dryer labeled elec...</td>\n",
       "      <td>0</td>\n",
       "      <td>[buy, new, washer, buy, dryer, dryer, label, e...</td>\n",
       "    </tr>\n",
       "    <tr>\n",
       "      <th>226503</th>\n",
       "      <td>journalists asked modi lacs ask rahul</td>\n",
       "      <td>1</td>\n",
       "      <td>[journalist, ask, modi, lac, ask, rahul]</td>\n",
       "    </tr>\n",
       "    <tr>\n",
       "      <th>72847</th>\n",
       "      <td>katieedwards cant yet back ive run texts ill r...</td>\n",
       "      <td>0</td>\n",
       "      <td>[katieedward, not, ve, run, text, ill, ring, l...</td>\n",
       "    </tr>\n",
       "    <tr>\n",
       "      <th>115582</th>\n",
       "      <td>possible namami gange project run modi govt</td>\n",
       "      <td>1</td>\n",
       "      <td>[possible, namami, gange, project, run, modi, ...</td>\n",
       "    </tr>\n",
       "    <tr>\n",
       "      <th>55241</th>\n",
       "      <td>nice application update everyday progress repo...</td>\n",
       "      <td>2</td>\n",
       "      <td>[nice, application, update, everyday, progress...</td>\n",
       "    </tr>\n",
       "    <tr>\n",
       "      <th>184325</th>\n",
       "      <td>jaishemohammed gives death threat former isro ...</td>\n",
       "      <td>1</td>\n",
       "      <td>[jaishemohammed, give, death, threat, isro, ch...</td>\n",
       "    </tr>\n",
       "    <tr>\n",
       "      <th>166464</th>\n",
       "      <td>modi biryanidoes shah hint</td>\n",
       "      <td>1</td>\n",
       "      <td>[modi, biryanidoe, shah, hint]</td>\n",
       "    </tr>\n",
       "    <tr>\n",
       "      <th>224977</th>\n",
       "      <td>simple wants make modi win hook crook destroyi...</td>\n",
       "      <td>2</td>\n",
       "      <td>[simple, want, modi, win, hook, crook, destroy...</td>\n",
       "    </tr>\n",
       "    <tr>\n",
       "      <th>13600</th>\n",
       "      <td>started watching today everything seem clear l...</td>\n",
       "      <td>2</td>\n",
       "      <td>[start, watch, today, clear, look, forward, vi...</td>\n",
       "    </tr>\n",
       "    <tr>\n",
       "      <th>205248</th>\n",
       "      <td>cat outits matter time crook cought sent arthu...</td>\n",
       "      <td>0</td>\n",
       "      <td>[cat, outit, matter, time, crook, cought, send...</td>\n",
       "    </tr>\n",
       "    <tr>\n",
       "      <th>895</th>\n",
       "      <td>great job guys love watching guys year old son...</td>\n",
       "      <td>2</td>\n",
       "      <td>[great, job, guy, love, watch, guy, year, old,...</td>\n",
       "    </tr>\n",
       "    <tr>\n",
       "      <th>31592</th>\n",
       "      <td>shanwest im excited see u forever lil gettin m...</td>\n",
       "      <td>2</td>\n",
       "      <td>[shanwest, m, excited, u, forever, lil, gettin...</td>\n",
       "    </tr>\n",
       "    <tr>\n",
       "      <th>58312</th>\n",
       "      <td>actually according retweets least</td>\n",
       "      <td>1</td>\n",
       "      <td>[actually, accord, retweet]</td>\n",
       "    </tr>\n",
       "    <tr>\n",
       "      <th>191815</th>\n",
       "      <td>dude supporter modi anything missed satellites...</td>\n",
       "      <td>1</td>\n",
       "      <td>[dude, supporter, modi, miss, satellite, isro,...</td>\n",
       "    </tr>\n",
       "    <tr>\n",
       "      <th>73719</th>\n",
       "      <td>thinking drink watered hey free</td>\n",
       "      <td>1</td>\n",
       "      <td>[thinking, drink, water, hey, free]</td>\n",
       "    </tr>\n",
       "    <tr>\n",
       "      <th>137336</th>\n",
       "      <td>bjp credit lene kaushish kar raha hai actually...</td>\n",
       "      <td>1</td>\n",
       "      <td>[bjp, credit, lene, kaushish, kar, raha, hai, ...</td>\n",
       "    </tr>\n",
       "    <tr>\n",
       "      <th>140499</th>\n",
       "      <td>hindus pak reduced first wipe muslims india et...</td>\n",
       "      <td>2</td>\n",
       "      <td>[hindus, pak, reduce, wipe, muslims, india, et...</td>\n",
       "    </tr>\n",
       "    <tr>\n",
       "      <th>2614</th>\n",
       "      <td>loved flow lakeyah satisfying</td>\n",
       "      <td>2</td>\n",
       "      <td>[love, flow, lakeyah, satisfy]</td>\n",
       "    </tr>\n",
       "  </tbody>\n",
       "</table>\n",
       "</div>"
      ],
      "text/plain": [
       "                                                  Comment  Sentiment  \\\n",
       "21723   soupysoup time today heinz cream chicken mushr...          1   \n",
       "173746  urmila matondkar shame kashmiri pandits women ...          2   \n",
       "21006   buy new washer bought dryer dryer labeled elec...          0   \n",
       "226503              journalists asked modi lacs ask rahul          1   \n",
       "72847   katieedwards cant yet back ive run texts ill r...          0   \n",
       "115582        possible namami gange project run modi govt          1   \n",
       "55241   nice application update everyday progress repo...          2   \n",
       "184325  jaishemohammed gives death threat former isro ...          1   \n",
       "166464                         modi biryanidoes shah hint          1   \n",
       "224977  simple wants make modi win hook crook destroyi...          2   \n",
       "13600   started watching today everything seem clear l...          2   \n",
       "205248  cat outits matter time crook cought sent arthu...          0   \n",
       "895     great job guys love watching guys year old son...          2   \n",
       "31592   shanwest im excited see u forever lil gettin m...          2   \n",
       "58312                   actually according retweets least          1   \n",
       "191815  dude supporter modi anything missed satellites...          1   \n",
       "73719                     thinking drink watered hey free          1   \n",
       "137336  bjp credit lene kaushish kar raha hai actually...          1   \n",
       "140499  hindus pak reduced first wipe muslims india et...          2   \n",
       "2614                        loved flow lakeyah satisfying          2   \n",
       "\n",
       "                                                   tokens  \n",
       "21723   [soupysoup, time, today, heinz, cream, chicken...  \n",
       "173746  [urmila, matondkar, shame, kashmiri, pandit, w...  \n",
       "21006   [buy, new, washer, buy, dryer, dryer, label, e...  \n",
       "226503           [journalist, ask, modi, lac, ask, rahul]  \n",
       "72847   [katieedward, not, ve, run, text, ill, ring, l...  \n",
       "115582  [possible, namami, gange, project, run, modi, ...  \n",
       "55241   [nice, application, update, everyday, progress...  \n",
       "184325  [jaishemohammed, give, death, threat, isro, ch...  \n",
       "166464                     [modi, biryanidoe, shah, hint]  \n",
       "224977  [simple, want, modi, win, hook, crook, destroy...  \n",
       "13600   [start, watch, today, clear, look, forward, vi...  \n",
       "205248  [cat, outit, matter, time, crook, cought, send...  \n",
       "895     [great, job, guy, love, watch, guy, year, old,...  \n",
       "31592   [shanwest, m, excited, u, forever, lil, gettin...  \n",
       "58312                         [actually, accord, retweet]  \n",
       "191815  [dude, supporter, modi, miss, satellite, isro,...  \n",
       "73719                 [thinking, drink, water, hey, free]  \n",
       "137336  [bjp, credit, lene, kaushish, kar, raha, hai, ...  \n",
       "140499  [hindus, pak, reduce, wipe, muslims, india, et...  \n",
       "2614                       [love, flow, lakeyah, satisfy]  "
      ]
     },
     "execution_count": 7,
     "metadata": {},
     "output_type": "execute_result"
    }
   ],
   "source": [
    "df.sample(20)"
   ]
  },
  {
   "cell_type": "code",
   "execution_count": 8,
   "id": "c8c35eb0",
   "metadata": {},
   "outputs": [
    {
     "data": {
      "text/plain": [
       "Text(0.5, 1.0, 'Distribution of Sentiment Classes')"
      ]
     },
     "execution_count": 8,
     "metadata": {},
     "output_type": "execute_result"
    },
    {
     "data": {
      "image/png": "[encoded data removed]",
      "text/plain": [
       "<Figure size 800x600 with 1 Axes>"
      ]
     },
     "metadata": {},
     "output_type": "display_data"
    }
   ],
   "source": [
    "plt.figure(figsize=(8,6))\n",
    "sns.countplot(x='Sentiment', data=df)\n",
    "plt.title('Distribution of Sentiment Classes')"
   ]
  },
  {
   "cell_type": "code",
   "execution_count": 9,
   "id": "a5e76584",
   "metadata": {},
   "outputs": [
    {
     "name": "stdout",
     "output_type": "stream",
     "text": [
      "(240928, 10000)\n"
     ]
    }
   ],
   "source": [
    "from sklearn.feature_extraction.text import CountVectorizer\n",
    "\n",
    "df['tokens_str'] = df['tokens'].apply(lambda x: \" \".join(x))  # convert list of tokens back to string\n",
    "vectorizer = CountVectorizer(max_features=10000) \n",
    "X = vectorizer.fit_transform(df['tokens_str'])\n",
    "y = df['Sentiment'] # 0 for Negative , 1 for Neutral , 2 for Positive\n",
    "print(X.shape)  "
   ]
  },
  {
   "cell_type": "code",
   "execution_count": 10,
   "id": "f6434520",
   "metadata": {},
   "outputs": [
    {
     "name": "stderr",
     "output_type": "stream",
     "text": [
      "c:\\Users\\Mveun\\anaconda3\\envs\\DATA_PROJECT\\Lib\\site-packages\\sklearn\\linear_model\\_logistic.py:1247: FutureWarning: 'multi_class' was deprecated in version 1.5 and will be removed in 1.7. From then on, it will always use 'multinomial'. Leave it to its default value to avoid this warning.\n",
      "  warnings.warn(\n",
      "c:\\Users\\Mveun\\anaconda3\\envs\\DATA_PROJECT\\Lib\\site-packages\\sklearn\\linear_model\\_logistic.py:465: ConvergenceWarning: lbfgs failed to converge (status=1):\n",
      "STOP: TOTAL NO. OF ITERATIONS REACHED LIMIT.\n",
      "\n",
      "Increase the number of iterations (max_iter) or scale the data as shown in:\n",
      "    https://scikit-learn.org/stable/modules/preprocessing.html\n",
      "Please also refer to the documentation for alternative solver options:\n",
      "    https://scikit-learn.org/stable/modules/linear_model.html#logistic-regression\n",
      "  n_iter_i = _check_optimize_result(\n"
     ]
    }
   ],
   "source": [
    "# bulding the model\n",
    "from sklearn.model_selection import train_test_split\n",
    "from sklearn.linear_model import LogisticRegression\n",
    "X_train, X_test, y_train, y_test = train_test_split(X, y, test_size=0.2, random_state=42)\n",
    "model = LogisticRegression(max_iter=200 , class_weight='balanced' , multi_class='multinomial')\n",
    "model.fit(X_train, y_train)\n",
    "y_pred = model.predict(X_test)\n"
   ]
  },
  {
   "cell_type": "code",
   "execution_count": 11,
   "id": "acb5252f",
   "metadata": {},
   "outputs": [
    {
     "name": "stdout",
     "output_type": "stream",
     "text": [
      "              precision    recall  f1-score   support\n",
      "\n",
      "           0       0.69      0.71      0.70     11023\n",
      "           1       0.71      0.80      0.75     16631\n",
      "           2       0.84      0.74      0.78     20532\n",
      "\n",
      "    accuracy                           0.75     48186\n",
      "   macro avg       0.74      0.75      0.74     48186\n",
      "weighted avg       0.76      0.75      0.75     48186\n",
      "\n",
      "Accuracy: 0.7512555514049724\n",
      "[[ 7803  2017  1203]\n",
      " [ 1673 13256  1702]\n",
      " [ 1915  3476 15141]]\n"
     ]
    }
   ],
   "source": [
    "from sklearn.metrics import classification_report, confusion_matrix, accuracy_score\n",
    "print(classification_report(y_test, y_pred))\n",
    "print(\"Accuracy:\", accuracy_score(y_test, y_pred))\n",
    "print(confusion_matrix(y_test, y_pred))\n"
   ]
  },
  {
   "cell_type": "markdown",
   "id": "450a3520",
   "metadata": {},
   "source": [
    "The model's performance is reasonable considering that we used a Bag-of-Words approach. While it captures the general trends in the comments, it does not take into account the context or the sequence of words, which limits the achievable accuracy"
   ]
  },
  {
   "cell_type": "code",
   "execution_count": null,
   "id": "1983ecad",
   "metadata": {},
   "outputs": [
    {
     "data": {
      "image/png": "[encoded data removed]",
      "text/plain": [
       "<Figure size 600x500 with 2 Axes>"
      ]
     },
     "metadata": {},
     "output_type": "display_data"
    }
   ],
   "source": [
    "cm = confusion_matrix(y_test, y_pred)\n",
    "plt.figure(figsize=(6,5))\n",
    "sns.heatmap(cm, annot=True, fmt='d', cmap='Blues',xticklabels=['Negative','Neutral','Positive'],yticklabels=['Negative','Neutral','Positive'])\n",
    "plt.xlabel('Predicted')\n",
    "plt.ylabel('Actual')\n",
    "plt.title('Confusion Matrix')\n",
    "plt.show()\n"
   ]
  },
  {
   "cell_type": "code",
   "execution_count": 15,
   "id": "ba00bb4e",
   "metadata": {},
   "outputs": [
    {
     "name": "stdout",
     "output_type": "stream",
     "text": [
      "Top words for class 0:\n",
      "worst, terrible, devastating, scathing, idiot, cruel, pathetic, disgusting, shocking, moron\n",
      "--------------------------------------------------\n",
      "Top words for class 1:\n",
      "preplanne, anthem, jess, navigate, physicist, availability, starwarsday, tile, investing, hulk\n",
      "--------------------------------------------------\n",
      "Top words for class 2:\n",
      "fascinating, awesome, amazing, brilliant, brave, excellent, wisely, successful, successfully, proud\n",
      "--------------------------------------------------\n"
     ]
    }
   ],
   "source": [
    "feature_names = vectorizer.get_feature_names_out()\n",
    "for i, class_label in enumerate(model.classes_):\n",
    "    top_features = np.argsort(model.coef_[i])[-10:]  # أعلى 10 كلمات لكل فئة\n",
    "    print(f\"Top words for class {class_label}:\")\n",
    "    print(\", \".join(feature_names[j] for j in top_features))\n",
    "    print(\"-\"*50)"
   ]
  }
 ],
 "metadata": {
  "kernelspec": {
   "display_name": "DATA_PROJECT",
   "language": "python",
   "name": "python3"
  },
  "language_info": {
   "codemirror_mode": {
    "name": "ipython",
    "version": 3
   },
   "file_extension": ".py",
   "mimetype": "text/x-python",
   "name": "python",
   "nbconvert_exporter": "python",
   "pygments_lexer": "ipython3",
   "version": "3.11.9"
  }
 },
 "nbformat": 4,
 "nbformat_minor": 5
}
